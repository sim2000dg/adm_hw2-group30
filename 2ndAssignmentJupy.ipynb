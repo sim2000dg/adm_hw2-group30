{
 "cells": [
  {
   "cell_type": "code",
   "execution_count": 35,
   "metadata": {
    "collapsed": true
   },
   "outputs": [],
   "source": [
    "import os\n",
    "import matplotlib.pyplot as plt\n",
    "import pandas as pd\n",
    "os.chdir(\"/Volumes/ExtraHDD2/DS_Assignments_Data/ADM_2\")"
   ]
  },
  {
   "cell_type": "markdown",
   "source": [
    "# RQ1 - Basic EDA"
   ],
   "metadata": {
    "collapsed": false
   }
  },
  {
   "cell_type": "markdown",
   "source": [
    "lorem ipsum"
   ],
   "metadata": {
    "collapsed": false
   }
  },
  {
   "cell_type": "code",
   "execution_count": 6,
   "outputs": [],
   "source": [
    "posts = pd.read_csv(\"instagram_posts.csv\", delimiter=\"\\t\")\n",
    "profiles = pd.read_csv(\"instagram_profiles.csv\", delimiter=\"\\t\")\n",
    "locations = pd.read_csv(\"instagram_locations.csv\", delimiter=\"\\t\")"
   ],
   "metadata": {
    "collapsed": false
   }
  },
  {
   "cell_type": "code",
   "execution_count": 11,
   "outputs": [
    {
     "name": "stdout",
     "output_type": "stream",
     "text": [
      "posts:42710197\n",
      "profiles: 4509586\n",
      "locations: 1022658\n",
      "NA posts: 16280069\n",
      "NA profiles: 3763522\n",
      "NA profiles: 1022658\n"
     ]
    }
   ],
   "source": [
    "# Number of observations for dataset\n",
    "print(f\"posts:{len(posts)}\")\n",
    "print(f\"profiles: {len(profiles)}\")\n",
    "print(f\"locations: {len(locations)}\")\n",
    "\n",
    "# Number of non-complete observations for dataset\n",
    "print(f\"NA in posts: {len(posts) - len(posts.dropna())}\")\n",
    "print(f\"NA in profiles: {len(profiles) - len(profiles.dropna())}\")\n",
    "print(f\"NA in profiles: {len(locations) - len(locations.dropna())}\")"
   ],
   "metadata": {
    "collapsed": false
   }
  },
  {
   "cell_type": "markdown",
   "source": [
    "## Features of _posts_ dataset"
   ],
   "metadata": {
    "collapsed": false
   }
  },
  {
   "cell_type": "markdown",
   "source": [
    "lorem ipsum"
   ],
   "metadata": {
    "collapsed": false
   }
  },
  {
   "cell_type": "code",
   "execution_count": 20,
   "outputs": [
    {
     "data": {
      "text/plain": "       numbr_likes  number_comments\nmean  2.835030e+02         7.595308\nstd   6.124611e+03       194.147640\nmin   0.000000e+00         0.000000\n25%   2.000000e+01         0.000000\n50%   4.600000e+01         2.000000\n75%   1.140000e+02         5.000000\nmax   8.822952e+06    488953.000000",
      "text/html": "<div>\n<style scoped>\n    .dataframe tbody tr th:only-of-type {\n        vertical-align: middle;\n    }\n\n    .dataframe tbody tr th {\n        vertical-align: top;\n    }\n\n    .dataframe thead th {\n        text-align: right;\n    }\n</style>\n<table border=\"1\" class=\"dataframe\">\n  <thead>\n    <tr style=\"text-align: right;\">\n      <th></th>\n      <th>numbr_likes</th>\n      <th>number_comments</th>\n    </tr>\n  </thead>\n  <tbody>\n    <tr>\n      <th>mean</th>\n      <td>2.835030e+02</td>\n      <td>7.595308</td>\n    </tr>\n    <tr>\n      <th>std</th>\n      <td>6.124611e+03</td>\n      <td>194.147640</td>\n    </tr>\n    <tr>\n      <th>min</th>\n      <td>0.000000e+00</td>\n      <td>0.000000</td>\n    </tr>\n    <tr>\n      <th>25%</th>\n      <td>2.000000e+01</td>\n      <td>0.000000</td>\n    </tr>\n    <tr>\n      <th>50%</th>\n      <td>4.600000e+01</td>\n      <td>2.000000</td>\n    </tr>\n    <tr>\n      <th>75%</th>\n      <td>1.140000e+02</td>\n      <td>5.000000</td>\n    </tr>\n    <tr>\n      <th>max</th>\n      <td>8.822952e+06</td>\n      <td>488953.000000</td>\n    </tr>\n  </tbody>\n</table>\n</div>"
     },
     "execution_count": 20,
     "metadata": {},
     "output_type": "execute_result"
    }
   ],
   "source": [
    "# Basic summary statistics for posts\n",
    "posts.describe().iloc[1:, 5:]"
   ],
   "metadata": {
    "collapsed": false
   }
  },
  {
   "cell_type": "markdown",
   "source": [
    "lorem ipsum (time series plot)"
   ],
   "metadata": {
    "collapsed": false
   }
  },
  {
   "cell_type": "code",
   "execution_count": 26,
   "outputs": [],
   "source": [
    "# Converting the column cts to date/time type. This will be useful also for later stages\n",
    "posts[\"cts\"] = pd.to_datetime(posts.cts)"
   ],
   "metadata": {
    "collapsed": false
   }
  },
  {
   "cell_type": "code",
   "execution_count": 64,
   "outputs": [],
   "source": [
    "# Plot the # of posts for day of week\n",
    "\n",
    "number_of_weeks = len(posts[\"cts\"].dt.isocalendar().iloc[:, 0:2].drop_duplicates())\n",
    "grouped_dayweek_post = posts.groupby(posts[\"cts\"].dt.dayofweek)\n",
    "week_list = [\"Monday\", \"Tuesday\", \"Wednesday\", \"Thursday\", \"Friday\", \"Saturday\", \"Sunday\"]\n",
    "count_week = grouped_dayweek_post[\"sid\"].count().set_axis(week_list)\n",
    "\n",
    "# This normalizes the number of posts giving us the mean number post for each day (across the years)\n",
    "count_week /= number_of_weeks\n",
    "count_week.plot(marker=\"o\")\n",
    "plt.xlabel(\"Day of week\")\n",
    "plt.ylabel(\"# of posts\")\n",
    "plt.xticks(rotation = 45)\n",
    "plt.show()"
   ],
   "metadata": {
    "collapsed": false
   }
  },
  {
   "cell_type": "markdown",
   "source": [
    "## Features of the _profiles_ dataset"
   ],
   "metadata": {
    "collapsed": false
   }
  },
  {
   "cell_type": "code",
   "execution_count": 17,
   "outputs": [
    {
     "data": {
      "text/plain": "         following     followers        n_posts\nmean  1.405641e+03  4.739899e+03     409.541377\nstd   8.113473e+03  1.939087e+05    1041.940409\n25%   3.560000e+02  1.590000e+02      22.000000\n50%   7.540000e+02  4.060000e+02     120.000000\n75%   1.573000e+03  9.740000e+02     420.000000\nmax   4.191080e+06  2.854576e+08  183730.000000",
      "text/html": "<div>\n<style scoped>\n    .dataframe tbody tr th:only-of-type {\n        vertical-align: middle;\n    }\n\n    .dataframe tbody tr th {\n        vertical-align: top;\n    }\n\n    .dataframe thead th {\n        text-align: right;\n    }\n</style>\n<table border=\"1\" class=\"dataframe\">\n  <thead>\n    <tr style=\"text-align: right;\">\n      <th></th>\n      <th>following</th>\n      <th>followers</th>\n      <th>n_posts</th>\n    </tr>\n  </thead>\n  <tbody>\n    <tr>\n      <th>mean</th>\n      <td>1.405641e+03</td>\n      <td>4.739899e+03</td>\n      <td>409.541377</td>\n    </tr>\n    <tr>\n      <th>std</th>\n      <td>8.113473e+03</td>\n      <td>1.939087e+05</td>\n      <td>1041.940409</td>\n    </tr>\n    <tr>\n      <th>25%</th>\n      <td>3.560000e+02</td>\n      <td>1.590000e+02</td>\n      <td>22.000000</td>\n    </tr>\n    <tr>\n      <th>50%</th>\n      <td>7.540000e+02</td>\n      <td>4.060000e+02</td>\n      <td>120.000000</td>\n    </tr>\n    <tr>\n      <th>75%</th>\n      <td>1.573000e+03</td>\n      <td>9.740000e+02</td>\n      <td>420.000000</td>\n    </tr>\n    <tr>\n      <th>max</th>\n      <td>4.191080e+06</td>\n      <td>2.854576e+08</td>\n      <td>183730.000000</td>\n    </tr>\n  </tbody>\n</table>\n</div>"
     },
     "execution_count": 17,
     "metadata": {},
     "output_type": "execute_result"
    }
   ],
   "source": [
    "# Basic summary statistics for profiles\n",
    "profiles.describe().iloc[1:, 2:].drop(\"min\", axis = 0)"
   ],
   "metadata": {
    "collapsed": false
   }
  }
 ],
 "metadata": {
  "kernelspec": {
   "display_name": "Python 3",
   "language": "python",
   "name": "python3"
  },
  "language_info": {
   "codemirror_mode": {
    "name": "ipython",
    "version": 2
   },
   "file_extension": ".py",
   "mimetype": "text/x-python",
   "name": "python",
   "nbconvert_exporter": "python",
   "pygments_lexer": "ipython2",
   "version": "2.7.6"
  }
 },
 "nbformat": 4,
 "nbformat_minor": 0
}
