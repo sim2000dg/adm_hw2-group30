{
 "cells": [
  {
   "cell_type": "markdown",
   "id": "d263f47a",
   "metadata": {},
   "source": [
    "Ribbon Last"
   ]
  },
  {
   "cell_type": "code",
   "execution_count": 62,
   "id": "4e92565e",
   "metadata": {},
   "outputs": [],
   "source": [
    "from functools import partial\n",
    "import timeit\n",
    "import numpy as np\n",
    "from matplotlib import pyplot"
   ]
  },
  {
   "cell_type": "markdown",
   "id": "1bb3e7ef",
   "metadata": {},
   "source": [
    "Ribbon Function takes Ribbon_Length as an argument and creates an array \"arr\" which consist of all the possible lengths of\n",
    "splitted ribbon pieces, \"n\" which is the length of the array, an empty list named \"new\" to store values of operation,\n",
    "and an empty list named \"Liste\" to store the maximum multiplication. And Also it calls \"Ribbon_prod\" function and after\n",
    "\"Liste\" has the expected product it returns the maximum value in the \"Liste\" which is our solution. \"Ribbon_prod\" function \n",
    "works like this:\n",
    "It takes the last element of \"arr\" and either includes it in a list named \"newest\" and substracts it from \"Ribbon_Length\" or\n",
    "doesn't include it and checks two things. If \"Ribbon_Length\" is zero and if \"n\" is zero. If \"Ribbon_Length\" is zero this means\n",
    "sum of the all chosen elements are equal to ribbon length and we can multiply them and store it into \"Liste\".\n",
    "If n equals to zero this means there are no elements left in \"arr\" so we dont include and exclude its elements anymore.\n",
    "This is recursively repeated until there is no element left in \"arr\" "
   ]
  },
  {
   "cell_type": "code",
   "execution_count": 3,
   "id": "a3ece2ef",
   "metadata": {},
   "outputs": [
    {
     "name": "stdout",
     "output_type": "stream",
     "text": [
      "6\n"
     ]
    }
   ],
   "source": [
    "def Ribbon(Ribbon_Length):\n",
    "    #creating the tools and arguments\n",
    "    ar=[i for i in range(1,Ribbon_Length)]\n",
    "    arr=[]\n",
    "    for i in ar:\n",
    "        for j in range(i):\n",
    "            arr.append(i)\n",
    "    n=len(arr)\n",
    "    new=[]\n",
    "    Liste=[]\n",
    "    def Ribbon_prod(Ribbon_Length ,arr, n, new) :\n",
    "        #If the sum of elements in the list assigned to \"new\" equals to length of our ribbon, this means sum of splitted \n",
    "        #pieces are equal to length of ribbon and because every element in this list is substracted from \"Ribbon_Length\"\n",
    "        #when \"Ribbon_Length\" is zero, condition is met and we multiply elements of this list and put it into \"Liste\".\n",
    "        if Ribbon_Length == 0 :\n",
    "            multip=1\n",
    "            for i in new:\n",
    "                multip=multip*i\n",
    "            Liste.append(multip)\n",
    "        #If n is zero that means there are no elements left in \"arr\" \n",
    "        if (n == 0):\n",
    "                return\n",
    "        else:\n",
    "            \n",
    "        #We take from \"arr\" its last element and we either include it to a new list and substract it from Ribbon_Length\n",
    "        #or we dont include it and donts substract from Ribbon_Length\n",
    "                Ribbon_prod(Ribbon_Length,arr, n - 1, new)\n",
    "                newest=[]\n",
    "                newest=newest+new\n",
    "                newest.append(arr[n-1])\n",
    "                Ribbon_prod(Ribbon_Length - arr[n-1],arr, n - 1, newest)\n",
    "    Ribbon_prod(Ribbon_Length,arr,n,new)\n",
    "    return print(max(Liste))\n",
    "Ribbon(5)"
   ]
  },
  {
   "cell_type": "code",
   "execution_count": 8,
   "id": "cecb7e1d",
   "metadata": {},
   "outputs": [
    {
     "name": "stdout",
     "output_type": "stream",
     "text": [
      "\n"
     ]
    }
   ],
   "source": [
    "def Ribbon_dyn(Ribbon_Length):\n",
    "        # base Checks\n",
    "        if (Ribbon_Length==2 or Ribbon_Length==3):\n",
    "            return(Ribbon_Length-1)\n",
    "        threes=Ribbon_Length//3\n",
    "        twos=0\n",
    "        if  Ribbon_Length%3==1:\n",
    "            threes=threes-1\n",
    "            twos=twos+2\n",
    "        elif Ribbon_Length%3==2:\n",
    "            twos += 1\n",
    "        return  (3**threes) * (2**twos)\n",
    "Ribbon_dyn(5) "
   ]
  },
  {
   "cell_type": "code",
   "execution_count": null,
   "id": "764729d5",
   "metadata": {},
   "outputs": [],
   "source": [
    "a=time.perf_counter()\n"
   ]
  },
  {
   "cell_type": "code",
   "execution_count": null,
   "id": "07c4a513",
   "metadata": {},
   "outputs": [],
   "source": []
  }
 ],
 "metadata": {
  "kernelspec": {
   "display_name": "Python 3 (ipykernel)",
   "language": "python",
   "name": "python3"
  },
  "language_info": {
   "codemirror_mode": {
    "name": "ipython",
    "version": 3
   },
   "file_extension": ".py",
   "mimetype": "text/x-python",
   "name": "python",
   "nbconvert_exporter": "python",
   "pygments_lexer": "ipython3",
   "version": "3.9.12"
  }
 },
 "nbformat": 4,
 "nbformat_minor": 5
}
