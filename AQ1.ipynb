{
 "cells": [
  {
   "cell_type": "markdown",
   "id": "efc4ab5b",
   "metadata": {},
   "source": [
    "### What is the output of this algorithm? Describe the mechanism of the algorithm in detail . We do not want to know only its final result. (Describe one example on your own)"
   ]
  },
  {
   "cell_type": "code",
   "execution_count": 2,
   "id": "11f5b98a",
   "metadata": {},
   "outputs": [],
   "source": [
    "def f1(sequence,end):\n",
    "    for i in range(end):\n",
    "        print(sequence[i])\n",
    "    print('\\n')\n",
    "def f2(sequence,start,end):\n",
    "    if( start==end):\n",
    "        f1(sequence,end)\n",
    "    else:\n",
    "        i= start\n",
    "        while(i<end):\n",
    "            temp =  sequence[start]\n",
    "            sequence[start] = sequence[i]\n",
    "            sequence[i]  = temp\n",
    "            f2(sequence,start+1,end)\n",
    "            temp =  sequence[start]\n",
    "            sequence[start] = sequence[i]\n",
    "            sequence[i]  = temp\n",
    "            i+=1"
   ]
  },
  {
   "cell_type": "markdown",
   "id": "4fea830f",
   "metadata": {},
   "source": [
    "The output of this algorithm is the set of all permutations of a given sequence(List in this case) of length __N__. \\\n",
    "Clearly there will be __N!__ permutations, in fact as can be seen in the case considered with __N=3__, there will be __3!=3*2=6__ permutations of the List string."
   ]
  },
  {
   "cell_type": "code",
   "execution_count": 3,
   "id": "2d6f851e",
   "metadata": {},
   "outputs": [],
   "source": [
    "List = ['a','b','c']\n",
    "N = 3"
   ]
  },
  {
   "cell_type": "code",
   "execution_count": 4,
   "id": "b6b8949f",
   "metadata": {},
   "outputs": [
    {
     "name": "stdout",
     "output_type": "stream",
     "text": [
      "a\n",
      "b\n",
      "c\n",
      "\n",
      "\n",
      "a\n",
      "c\n",
      "b\n",
      "\n",
      "\n",
      "b\n",
      "a\n",
      "c\n",
      "\n",
      "\n",
      "b\n",
      "c\n",
      "a\n",
      "\n",
      "\n",
      "c\n",
      "b\n",
      "a\n",
      "\n",
      "\n",
      "c\n",
      "a\n",
      "b\n",
      "\n",
      "\n"
     ]
    }
   ],
   "source": [
    "f2(List, 0, N)"
   ]
  },
  {
   "cell_type": "markdown",
   "id": "5a5c44d8",
   "metadata": {},
   "source": [
    "At first the function __f2(List,0,N)__ is called and since start!=end the function enters the while and the while loop is blocked because a recursive call of the function, __f2(List,0+1,N)__ is made.\\\n",
    "Recursive cascade calls are then generated untill __f2(List,N,N)__ is called(of course at every call the List can change).\\\n",
    "A __n__-ary tree is generated and the leaves of this tree are the call at __f1(List,N)__.\\\n",
    "A graph is attached for a better understanding."
   ]
  },
  {
   "cell_type": "code",
   "execution_count": null,
   "id": "8dad6855",
   "metadata": {},
   "outputs": [],
   "source": []
  },
  {
   "cell_type": "markdown",
   "id": "07ee64a3",
   "metadata": {},
   "source": [
    "### What is asymptotically (i.e., we are asking for big-O complexity) the algorithm's running time as a function of N?"
   ]
  },
  {
   "cell_type": "markdown",
   "id": "839ca543",
   "metadata": {},
   "source": [
    "At the first level there is only __1__ call of the function, and it's the first call of f2 with start=0.\\\n",
    "At the second level there are __N__ calls of the function f2, everyone with start=1.\\\n",
    "And so on, untill we arrive at the __N-1__ level where there are __N!__ calls.\\\n",
    "In the last level there are __N!__ calls to the f1 function that will print all the permutations of the given sequence. "
   ]
  },
  {
   "cell_type": "markdown",
   "id": "2a993de0",
   "metadata": {},
   "source": [
    "\n",
    "$$\n",
    "\\begin{aligned}\n",
    "&T(N)=N T(N-1)+c\\\\\n",
    "&T(N)=N[(N-1) T(N-2)+c]+c\\\\\n",
    "&T(N)=N(N-1) T(N-2)+N c+c\\\\\n",
    "&T(N)=N(N-1)[(N-2) T(N-3)+c]+N c+c\\\\\n",
    "&T(N)=N(N-1)(N-2) T(N-3)+N(N-1) c+N c+c\\\\\n",
    "&T(N)=N(N-1)(N-2) T(N-3)+c(1+N+N(N-1))\\\\\n",
    "&T(N)=N !+c(1+N+N(N-1)+\\cdots N(N-1)(N-2)\\cdot \\cdots\\cdot4\\cdot3)\\\\\n",
    "&T(N)=N !+\\left(\\sum_{k=0}^{N-2} \\frac{N !}{(N-k) !}\\right) c=N !+\\left(\\sum_{k=0}^{N-2} \\frac{1}{(N-k) !}\\right) N!\\cdot c\\\\\n",
    "&O\\left(N !+\\left(\\sum_{k=0}^{N-2} \\frac{1}{(N-k) !}\\right) N!\\cdot c\\right)=O(N !)\\\\\n",
    "\\end{aligned}\n",
    "$$\n",
    "so is an $$O(N !)$$\n",
    "because the summation is not diverging and can be interpreted as a constant."
   ]
  },
  {
   "cell_type": "markdown",
   "id": "8e29cf25",
   "metadata": {},
   "source": [
    "### Is this algorithm the optimal one to produce this output? If not, can you suggest a better algorithm to perform the same task?"
   ]
  },
  {
   "cell_type": "markdown",
   "id": "a6bcf233",
   "metadata": {},
   "source": [
    "The algorithm is optimal, since we know that all the permutation of a given sequence of lengh N are __N!__\\\n",
    "So we necessarily need __N!__ steps to create all the permutations.\\\n",
    "So since the problems is an $$O(N!)$$ we can't find a better algorithm."
   ]
  }
 ],
 "metadata": {
  "kernelspec": {
   "display_name": "Python 3 (ipykernel)",
   "language": "python",
   "name": "python3"
  },
  "language_info": {
   "codemirror_mode": {
    "name": "ipython",
    "version": 3
   },
   "file_extension": ".py",
   "mimetype": "text/x-python",
   "name": "python",
   "nbconvert_exporter": "python",
   "pygments_lexer": "ipython3",
   "version": "3.9.7"
  }
 },
 "nbformat": 4,
 "nbformat_minor": 5
}
