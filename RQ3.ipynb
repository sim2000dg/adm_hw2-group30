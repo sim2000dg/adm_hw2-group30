{
 "cells": [
  {
   "cell_type": "code",
   "execution_count": null,
   "metadata": {
    "collapsed": true
   },
   "outputs": [],
   "source": [
    "import os\n",
    "import geopandas.datasets\n",
    "import matplotlib.pyplot as plt\n",
    "import pandas as pd\n",
    "import geopandas as geopd\n",
    "import sklearn.cluster as clustering\n",
    "import numpy as np\n",
    "from matplotlib.ticker import FormatStrFormatter, PercentFormatter\n",
    "os.chdir(\"/Volumes/ExtraHDD2/DS_Assignments_Data/ADM_2\")"
   ]
  },
  {
   "cell_type": "code",
   "execution_count": null,
   "outputs": [],
   "source": [
    "posts = pd.read_csv(\"instagram_posts.csv\", delimiter=\"\\t\", parse_dates=[5], infer_datetime_format = True, nrows=100000)"
   ],
   "metadata": {
    "collapsed": false
   }
  },
  {
   "cell_type": "code",
   "execution_count": null,
   "outputs": [],
   "source": [
    "# RQ2 [H1]\n",
    "\n",
    "# Most common time in which users publish their posts [H2]\n",
    "\n",
    "# This is pretty straightforward to do\n",
    "# It should be stressed that we have no information from the dataset for what concerns the timezones, which is a quite crucial bit of info\n",
    "# The timestamps probably refer to a single timezone, so it is difficult to talk about the \"most common time\", since to check\n",
    "# something like this we should have the timestamps relatively to the timezone of the account which posted.\n",
    "# Considering the limitation, let's answer the question\n",
    "print((posts.cts.dt.hour.value_counts(True)*100).astype(\"str\").add(\"%\"))\n",
    "plt.figure(figsize=(9, 6))\n",
    "posts.cts.dt.hour.value_counts(True).sort_index().plot.bar()\n",
    "plt.xlabel(\"Hour\")\n",
    "plt.ylabel(\"Percentage\")\n",
    "plt.title(\"Barplot for posts frequency conditioned on time\")\n",
    "plt.gca().xaxis.set_major_formatter(FormatStrFormatter('% .0f'))\n",
    "plt.gca().yaxis.set_major_formatter(PercentFormatter(xmax=1, decimals=0))\n",
    "plt.show()\n",
    "# The time range which seems more active is the one from early-mid afternoon to 9/10 PM."
   ],
   "metadata": {
    "collapsed": false
   }
  },
  {
   "cell_type": "code",
   "execution_count": null,
   "outputs": [],
   "source": [
    "posts.cts.isna().any()"
   ],
   "metadata": {
    "collapsed": false
   }
  },
  {
   "cell_type": "code",
   "execution_count": null,
   "outputs": [],
   "source": [
    "# Define a function that receives a time interval and returns a plot with the number of posts for each time interval\n",
    "\n",
    "def time_interval_obs(interval_list:list[tuple[str, str]], time_df: pd.DataFrame, time_col: str|None = None) -> None:\n",
    "    if not time_col:\n",
    "        dtypes_series = time_df.dtypes.index[time_df.apply(pd.api.types.is_datetime64_any_dtype)]\n",
    "        if dtypes_series.empty:\n",
    "            raise ValueError(\"The dataframe has no columns for time, you need to pass a dataframe which has at least one\")\n",
    "        elif len(dtypes_series) != 1:\n",
    "            raise TypeError(\"The dataframe has more than one column with datetime 64 dtype.\\n\\\n",
    "                            You need to explicitly tell the function which one to use\")\n",
    "        else:\n",
    "            time_col = dtypes_series[0]\n",
    "\n",
    "    try:\n",
    "        time_df = pd.Series(np.zeros(len(time_df))).set_axis(time_df[time_col])\n",
    "    except KeyError:\n",
    "        raise KeyError(\"The column you specified does not exist in the dataframe\")\n",
    "\n",
    "    n_posts_int_list = [len(time_df.between_time(*interval)) for interval in interval_list]\n",
    "\n",
    "    plt.figure(figsize=(13, 7))\n",
    "    plt.bar([\"|\".join(x) for x in interval_list], n_posts_int_list)\n",
    "    plt.xlabel(\"Time Interval\")\n",
    "    plt.ylabel(\"Number of posts\")\n",
    "    plt.xticks(rotation = 20)\n",
    "    plt.show()\n",
    "\n",
    "    return None"
   ],
   "metadata": {
    "collapsed": false
   }
  },
  {
   "cell_type": "code",
   "execution_count": null,
   "outputs": [],
   "source": [
    "posts.cts.isna().any() # Every post has a timestamp\n",
    "\n",
    "test_list = [(\"06:00:00\", \"10:59:59\"), (\"11:00:00\",\"13:59:59\"), (\"14:00:00\", \"16:59:59\"), (\"17:00:00\", \"19:59:59\"), (\"20:00:00\", \"23:59:59\"), (\"00:00:00\", \"02:59:59\"), (\"03:00:00\", \"05:59:59\")]\n",
    "\n",
    "time_interval_obs(test_list, posts)"
   ],
   "metadata": {
    "collapsed": false
   }
  },
  {
   "cell_type": "code",
   "execution_count": null,
   "outputs": [],
   "source": [],
   "metadata": {
    "collapsed": false
   }
  }
 ],
 "metadata": {
  "kernelspec": {
   "display_name": "Python 3",
   "language": "python",
   "name": "python3"
  },
  "language_info": {
   "codemirror_mode": {
    "name": "ipython",
    "version": 2
   },
   "file_extension": ".py",
   "mimetype": "text/x-python",
   "name": "python",
   "nbconvert_exporter": "python",
   "pygments_lexer": "ipython2",
   "version": "2.7.6"
  }
 },
 "nbformat": 4,
 "nbformat_minor": 0
}
