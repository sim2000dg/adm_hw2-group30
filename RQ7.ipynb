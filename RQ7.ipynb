{
 "cells": [
  {
   "cell_type": "markdown",
   "metadata": {},
   "source": [
    "## [RQ7] Of course, calculating probabilities is a job that any Data Scientist must know. So let's compute some engaging figures"
   ]
  },
  {
   "cell_type": "markdown",
   "metadata": {},
   "source": [
    "#### [RQ7.1] What's the probability that a post receives more than 20% \"likes\" of the number of followers a user has?"
   ]
  },
  {
   "cell_type": "code",
   "execution_count": null,
   "metadata": {},
   "outputs": [],
   "source": [
    "#let's take smaller datasets from posts and profiles\n",
    "#from profiles we are keeping only two columns ['profile_id', 'followers']\n",
    "sub_profiles = profiles.loc[:,[1,6]]\n",
    "\n",
    "#from posts we are keeping only two columns ['profile_id','numbr_likes']\n",
    "sub_posts = posts.loc[:,[3,8]]"
   ]
  },
  {
   "cell_type": "code",
   "execution_count": null,
   "metadata": {},
   "outputs": [],
   "source": [
    "#merge the two dataframes\n",
    "merged = pd.merge(sub_posts, sub_profiles, on = 'profile_id', how='inner')"
   ]
  },
  {
   "cell_type": "code",
   "execution_count": null,
   "metadata": {},
   "outputs": [],
   "source": [
    "more_than_twenty = len(merged.loc[merged['numbr_like'] > (0.2 * merged['followers'])])\n",
    "prob = more_than_twenty / len(merged.followers)\n",
    "\n",
    "print('The probability requested is: ', prob)"
   ]
  },
  {
   "cell_type": "markdown",
   "metadata": {},
   "source": [
    "#### [RQ7.2] Do users usually return to locations? Extract the probability that a user returns to a site after having posted it in the past. Does that probability make sense to you? Explain why or why not"
   ]
  },
  {
   "cell_type": "code",
   "execution_count": null,
   "metadata": {},
   "outputs": [],
   "source": [
    "#taking only the useful columns ['profile_id','location_id']\n",
    "sub_posts = posts.loc[:, [3,4]]"
   ]
  },
  {
   "cell_type": "code",
   "execution_count": null,
   "metadata": {},
   "outputs": [],
   "source": [
    "#grouping-by the profile_id and location_id, and count how many times a location has been visited for each user\n",
    "location_per_user = sub_posts.groupby(['profile_id', 'location_id']).location_id.count()\n",
    "visited_more_than_once = len(location_per_user.loc[location_per_user > 1])\n",
    "\n",
    "prob_requested = visited_more_than_once / len(location_per_user)\n",
    "print(\"The probability that user will visit again the same location is: \", prob_requested)"
   ]
  },
  {
   "cell_type": "markdown",
   "metadata": {},
   "source": [
    "As we can see from our result users tend to return to the same location more than once with a low probability. $\\newline$\n",
    "The result that we have just found is not reasonable, if we assume, for instance, that a user has been in that location only if he/she actually adds the location to his/her post, it may be also the case that the user could have been in that location even if he/she didn't add the location to the post. $\\newline$\n",
    "Thus, if we are taking this assumption, the probability should be higher."
   ]
  }
 ],
 "metadata": {
  "kernelspec": {
   "display_name": "Python 3.9.7 ('base')",
   "language": "python",
   "name": "python3"
  },
  "language_info": {
   "codemirror_mode": {
    "name": "ipython",
    "version": 3
   },
   "file_extension": ".py",
   "mimetype": "text/x-python",
   "name": "python",
   "nbconvert_exporter": "python",
   "pygments_lexer": "ipython3",
   "version": "3.9.7"
  },
  "orig_nbformat": 4,
  "vscode": {
   "interpreter": {
    "hash": "4f1e9513bc5bb29d9bee4e72c87ca22d6bcc97c47c851bcd1d209449bd223422"
   }
  }
 },
 "nbformat": 4,
 "nbformat_minor": 2
}
