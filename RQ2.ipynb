{
 "cells": [
  {
   "cell_type": "markdown",
   "metadata": {},
   "source": [
    "## [RQ2] Let's explore the dataset by finding simple insights regarding the profile and posts."
   ]
  },
  {
   "cell_type": "code",
   "execution_count": null,
   "metadata": {},
   "outputs": [],
   "source": [
    "import pandas as pd\n",
    "import numpy as np\n",
    "import matplotlib.pyplot as plt"
   ]
  },
  {
   "cell_type": "markdown",
   "metadata": {},
   "source": [
    "Now we will import only the columns we are interested in of the data set \"instagram_posts.csv\".\\\n",
    "Then we will import the other two dataset \"instagram_locations.csv\" and \"instagram_profiles.csv\".\\\n",
    "Later we will fill all the NA values that we are interested because otherwise we can find some problems with operations."
   ]
  },
  {
   "cell_type": "code",
   "execution_count": null,
   "metadata": {},
   "outputs": [],
   "source": [
    "cols=pd.read_csv(\"instagram_posts.csv\",delimiter=\"\\t\",nrows=1).columns.values.tolist()\n",
    "ignore_col=(\"description\",\"sid\",\"cts\",\"id\")\n",
    "posts = pd.read_csv(\"instagram_posts.csv\",delimiter=\"\\t\",parse_dates=[5],infer_datetime_format=True, usecols=[x for x in cols if x not in ignore_col])"
   ]
  },
  {
   "cell_type": "code",
   "execution_count": null,
   "metadata": {},
   "outputs": [],
   "source": [
    "profiles = pd.read_csv(\"instagram_profiles.csv\",delimiter=\"\\t\")"
   ]
  },
  {
   "cell_type": "markdown",
   "source": [],
   "metadata": {
    "collapsed": false
   }
  },
  {
   "cell_type": "code",
   "execution_count": null,
   "outputs": [],
   "source": [
    "profiles.following.fillna(0,inplace=True)\n",
    "profiles.followers.fillna(0,inplace=True)\n",
    "profiles.n_posts.fillna(0,inplace=True)\n",
    "profiles.description.fillna(\"\",inplace=True)\n",
    "profiles.firstname_lastname.fillna(\"\",inplace=True)\n",
    "profiles.url.fillna(\"\",inplace=True)\n",
    "profiles.cts.fillna(\"\",inplace=True)\n",
    "profiles.is_business_account.fillna(False,inplace=True)\n",
    "profiles.profile_id.fillna(0,inplace=True)"
   ],
   "metadata": {
    "collapsed": false
   }
  },
  {
   "cell_type": "markdown",
   "metadata": {},
   "source": [
    "### 2.1 Plot the number of posts for each profile in descending order"
   ]
  },
  {
   "cell_type": "code",
   "execution_count": null,
   "metadata": {},
   "outputs": [],
   "source": [
    "print(\"These are the number of posts for each profile in descending order.\")\n",
    "num_posts_ordered=profiles.sort_values(by=['n_posts'], ascending = False)\n",
    "display(num_posts_ordered)"
   ]
  },
  {
   "cell_type": "code",
   "execution_count": null,
   "metadata": {},
   "outputs": [],
   "source": [
    "plt.figure(figsize=(20, 8))\n",
    "print(num_posts_ordered[\"n_posts\"].describe())\n",
    "ax = plt.subplot(1, 2, 1)\n",
    "num_posts_ordered[\"n_posts\"].plot.box(ax=ax,vert=False);\n",
    "ax = plt.subplot(1, 2, 2)\n",
    "num_posts_ordered[\"n_posts\"].plot.box(showfliers=False,ax=ax,vert=False);\n"
   ]
  },
  {
   "cell_type": "markdown",
   "metadata": {},
   "source": [
    "We have used boxplot to have a summary of the set of the data, a box is created from the first quartile to the third quartile, and a vertical line is also there which goes through the box at the median. \n",
    "The figure on the left is plotted with the outliers, the second one without.\n",
    "As we can seen the mayority of the users(75%) do not publish more than 287 posts.\n",
    "The variance is very high, and indicates to us that the posts have a strong volability."
   ]
  },
  {
   "cell_type": "markdown",
   "metadata": {},
   "source": [
    "### 2.2 What posts have the highest number of \"likes\"?"
   ]
  },
  {
   "cell_type": "code",
   "execution_count": null,
   "metadata": {},
   "outputs": [],
   "source": [
    "print(\"These are the 10 posts with the highest number of likes:\")\n",
    "posts_ordered_likes = posts.sort_values(by=['numbr_likes'], ascending = False)\n",
    "display(posts_ordered_likes.head(10))"
   ]
  },
  {
   "cell_type": "markdown",
   "metadata": {},
   "source": [
    "### 2.3 What posts have the most and the least number of comments?"
   ]
  },
  {
   "cell_type": "code",
   "execution_count": null,
   "metadata": {},
   "outputs": [],
   "source": [
    "posts_ordered_com = posts.sort_values(by=['number_comments'], ascending = False)\n",
    "print(\"These are the 10 posts with the most comments: \")\n",
    "display(posts_ordered_com.head(10))\n",
    "print(\"These are the 10 posts with the lowest number of comments: \")\n",
    "display(posts_ordered_com.tail(10))"
   ]
  },
  {
   "cell_type": "markdown",
   "metadata": {},
   "source": [
    "### 2.4 How many posts include tagged locations, and how many do not? Show it using an appropriate chart and comment your results?"
   ]
  },
  {
   "cell_type": "code",
   "execution_count": null,
   "metadata": {},
   "outputs": [],
   "source": [
    "tag_loc = posts[posts[\"location_id\"]!=0].shape[0]\n",
    "NOtag_loc = posts.shape[0]-posts[posts[\"location_id\"]!=0].shape[0]\n",
    "print(\"The number of posts that include tagged locations is: \",tag_loc)\n",
    "print(\"The number of posts that DO NOT include tagged locations is: \",NOtag_loc)\n",
    "y = np.array([tag_loc,NOtag_loc])\n",
    "mylabels = [\"With tag location\", \"Without tag location\"]\n",
    "plt.pie(y,labels = mylabels,autopct='%1.2f%%')\n",
    "plt.show() "
   ]
  },
  {
   "cell_type": "markdown",
   "metadata": {},
   "source": [
    "### 2.5 How many posts include only photos? How many also have videos?"
   ]
  },
  {
   "cell_type": "code",
   "execution_count": null,
   "metadata": {},
   "outputs": [],
   "source": [
    "print(\"The number or posts that include only photos is: \",posts[posts[\"post_type\"]==1].shape[0])\n",
    "print(\"The number or posts that include only videos is: \",posts[posts[\"post_type\"]==2].shape[0])\n",
    "print(\"The number or posts that include both photos and videos: \",posts[posts[\"post_type\"]==3].shape[0])"
   ]
  },
  {
   "cell_type": "markdown",
   "metadata": {},
   "source": [
    "### 2.6 What's the percentage of business accounts vs non-business? What can you interpret regarding that percentage?"
   ]
  },
  {
   "cell_type": "code",
   "execution_count": null,
   "metadata": {},
   "outputs": [],
   "source": [
    "percentage_bus_acc = profiles[profiles[\"is_business_account\"]==True].shape[0]/(profiles.shape[0])\n",
    "percentage_NONbus_acc = profiles[profiles[\"is_business_account\"]==False].shape[0]/(profiles.shape[0])\n",
    "#percentage_NONbus_acc=(len(profiles)-len(profiles[profiles[\"is_business_account\"]==True]))/len(profiles)\n",
    "print(\"The percentage of business accounts is: \",percentage_bus_acc)\n",
    "print(\"The percentage of NON-business accounts is: \",percentage_NONbus_acc)\n",
    "y = np.array([percentage_bus_acc,percentage_NONbus_acc])\n",
    "mylabels = [\"Business\", \"Not Business\"]\n",
    "plt.pie(y,labels = mylabels,autopct='%1.2f%%')\n",
    "plt.show()"
   ]
  },
  {
   "cell_type": "markdown",
   "metadata": {},
   "source": [
    "For what we can observe the business option is really significant, almost 20% of the users have this type of profile(the percentage can be even higher since we don't know how many of the users are bot, fake or disused account.\n",
    "We can interpret this as a confirmation that currently instagram (and generalising, all social media), is seen as a powerful marketing medium.\n",
    "This means that many profiles use instagram as a tool for make profits and marketing ant thinks that paying for premium services is good for them."
   ]
  }
 ],
 "metadata": {
  "kernelspec": {
   "display_name": "Python 3.9.7 ('base')",
   "language": "python",
   "name": "python3"
  },
  "language_info": {
   "codemirror_mode": {
    "name": "ipython",
    "version": 3
   },
   "file_extension": ".py",
   "mimetype": "text/x-python",
   "name": "python",
   "nbconvert_exporter": "python",
   "pygments_lexer": "ipython3",
   "version": "3.9.7"
  },
  "orig_nbformat": 4,
  "vscode": {
   "interpreter": {
    "hash": "28ea75b7d9dd5b325cb9a751dc34da71a10f8944bac9b4ff454d9595cb15b82f"
   }
  }
 },
 "nbformat": 4,
 "nbformat_minor": 2
}
