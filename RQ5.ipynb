{
 "cells": [
  {
   "cell_type": "markdown",
   "metadata": {},
   "source": [
    "## [RQ5] The most influential users are the ones with the highest number of “followers\", you can now look more into their activity."
   ]
  },
  {
   "cell_type": "markdown",
   "metadata": {},
   "source": [
    "import pandas as pd\n",
    "import numpy as np\n",
    "import matplotlib.pyplot as plt"
   ]
  },
  {
   "cell_type": "markdown",
   "metadata": {},
   "source": [
    "Now we will import only the columns we are interested in of the data set \"instagram_posts.csv\".\\\n",
    "Then we will import the other two dataset \"instagram_locations.csv\" and \"instagram_profiles.csv\".\\\n",
    "Later we will fill all the NA values that we are interested because otherwise we can find some problems with operations."
   ]
  },
  {
   "cell_type": "code",
   "execution_count": null,
   "metadata": {},
   "outputs": [],
   "source": [
    "cols=pd.read_csv(\"instagram_posts.csv\",delimiter=\"\\t\",nrows=1).columns.values.tolist()\n",
    "ignore_col=(\"description\",\"sid\",\"cts\",\"id\")\n",
    "posts = pd.read_csv(\"instagram_posts.csv\",delimiter=\"\\t\",parse_dates=[5],infer_datetime_format=True, usecols=[x for x in cols if x not in ignore_col])"
   ]
  },
  {
   "cell_type": "code",
   "execution_count": null,
   "metadata": {},
   "outputs": [],
   "source": [
    "locations = pd.read_csv(\"instagram_locations.csv\",delimiter=\"\\t\")\n",
    "profiles = pd.read_csv(\"instagram_profiles.csv\",delimiter=\"\\t\")"
   ]
  },
  {
   "cell_type": "code",
   "execution_count": null,
   "metadata": {},
   "outputs": [],
   "source": [
    "posts.profile_id.fillna(0,inplace=True)\n",
    "posts.location_id.fillna(0,inplace=True)\n",
    "posts.numbr_likes.fillna(0,inplace=True)\n",
    "posts.number_comments.fillna(0,inplace=True)"
   ]
  },
  {
   "cell_type": "code",
   "execution_count": null,
   "metadata": {},
   "outputs": [],
   "source": [
    "profiles.following.fillna(0,inplace=True)\n",
    "profiles.followers.fillna(0,inplace=True)\n",
    "profiles.n_posts.fillna(0,inplace=True)\n",
    "profiles.description.fillna(\"\",inplace=True)\n",
    "profiles.firstname_lastname.fillna(\"\",inplace=True)\n",
    "profiles.url.fillna(\"\",inplace=True)\n",
    "profiles.cts.fillna(\"\",inplace=True)\n",
    "profiles.is_business_account.fillna(False,inplace=True)\n",
    "profiles.profile_id.fillna(0,inplace=True)"
   ]
  },
  {
   "cell_type": "code",
   "execution_count": null,
   "metadata": {},
   "outputs": [],
   "source": [
    "locations.sid.fillna(0,inplace=True)\n",
    "locations.id.fillna(0,inplace=True)\n",
    "locations.name.fillna('',inplace=True)\n",
    "locations.street.fillna('',inplace=True)\n",
    "locations.city.fillna('unknown location',inplace=True)\n",
    "locations.region.fillna('',inplace=True)\n",
    "locations.cd.fillna('',inplace=True)\n",
    "locations.phone.fillna('',inplace=True)\n",
    "locations.dir_city_name.fillna('',inplace=True)\n",
    "locations.dir_city_slug.fillna('',inplace=True)\n",
    "locations.dir_country_id.fillna('',inplace=True)\n",
    "locations.dir_country_name.fillna('',inplace=True)\n",
    "locations.website.fillna('',inplace=True)\n",
    "locations.primary_alias_on_fb.fillna('',inplace=True)"
   ]
  },
  {
   "cell_type": "markdown",
   "metadata": {},
   "source": [
    "### 5.1 Plot the top 10 most popular users in terms of followers and their number of posts."
   ]
  },
  {
   "cell_type": "code",
   "execution_count": null,
   "metadata": {},
   "outputs": [],
   "source": [
    "profiles_foll = profiles.sort_values(by='followers',ascending=False)\n",
    "display(profiles_foll.head(10))"
   ]
  },
  {
   "cell_type": "code",
   "execution_count": null,
   "metadata": {},
   "outputs": [],
   "source": [
    "plt.plot(profiles_foll.followers,profiles_foll.n_posts)\n",
    "plt.xlabel('Followers')\n",
    "plt.ylabel('Number of posts')\n",
    "plt.show()"
   ]
  },
  {
   "cell_type": "code",
   "execution_count": null,
   "metadata": {},
   "outputs": [],
   "source": [
    "plt.plot(profiles_foll.head(10).followers,profiles_foll.head(10).n_posts)\n",
    "plt.xlabel('Followers')\n",
    "plt.ylabel('Number of posts')\n",
    "plt.show()"
   ]
  },
  {
   "cell_type": "markdown",
   "metadata": {},
   "source": [
    "In contrast of what we expect, higher number of followers does not imply higher number of posts.\\\n",
    "The higher number of posts published is given by the ones who have less followers.\\\n",
    "This can be an indicator of how top influencer prefer to publish less but with more quality.\\\n",
    "We should anyway take in account that the spike in posts can be given by bots."
   ]
  },
  {
   "cell_type": "markdown",
   "metadata": {},
   "source": [
    "### 5.2 Who is the most influential user?"
   ]
  },
  {
   "cell_type": "code",
   "execution_count": null,
   "metadata": {},
   "outputs": [],
   "source": [
    "display(profiles_foll.head(1))"
   ]
  },
  {
   "cell_type": "markdown",
   "metadata": {},
   "source": [
    "### 5.3 Have they posted anything with tagged locations? Extract the most frequent areas on their posts and plot the number of times each city has been visited."
   ]
  },
  {
   "cell_type": "markdown",
   "metadata": {},
   "source": [
    "As we have done in the [RQ4] point, we define a function that returns all the posts of the top n profiles in terms of followers."
   ]
  },
  {
   "cell_type": "code",
   "execution_count": null,
   "metadata": {},
   "outputs": [],
   "source": [
    "def top_n_users_loc(n):\n",
    "    index = set()\n",
    "    top_n_profiles = profiles.sort_values(by=['followers'], ascending = False).head(n)\n",
    "    for i in range(n):\n",
    "        index.add(top_n_profiles.iloc[i,:][\"profile_id\"])\n",
    "    new_dataset = posts[posts[\"profile_id\"].isin(index)]\n",
    "    return new_dataset.sort_values(by=\"profile_id\",ascending=False)"
   ]
  },
  {
   "cell_type": "markdown",
   "metadata": {},
   "source": [
    "Now that we have all the posts of the most influential profiles (i.e. those with the most followers), we can derive the location ids from each individual post."
   ]
  },
  {
   "cell_type": "code",
   "execution_count": null,
   "metadata": {},
   "outputs": [],
   "source": [
    "locations_top = top_n_users_loc(10)[\"location_id\"].tolist()\n",
    "locations_top[:] = [x for x in locations_top if x != 0.0]"
   ]
  },
  {
   "cell_type": "markdown",
   "metadata": {},
   "source": [
    "Then we can check how many posts (in general) have been published by entering the location in these 'famous' cities."
   ]
  },
  {
   "cell_type": "code",
   "execution_count": null,
   "metadata": {},
   "outputs": [],
   "source": [
    "position_count = posts[posts['location_id'].isin(locations_top)].groupby('location_id').count().reset_index()\n",
    "position_count = position_count[['location_id', 'post_id']]\n",
    "position_count.columns = ['location_id', 'counts']\n",
    "number = position_count.counts.tolist()"
   ]
  },
  {
   "cell_type": "code",
   "execution_count": null,
   "metadata": {},
   "outputs": [],
   "source": [
    "cities_in_order = []\n",
    "for i in range(position_count.shape[0]):\n",
    "    city = locations[locations['id']==position_count.iloc[i,:][\"location_id\"]].city.str.split(',',expand=True)\n",
    "    city = city.iloc[0].tolist()[0]\n",
    "    cities_in_order.append(city)"
   ]
  },
  {
   "cell_type": "code",
   "execution_count": null,
   "metadata": {},
   "outputs": [],
   "source": [
    "y = number\n",
    "x = cities_in_order\n",
    "fig, ax = plt.subplots()\n",
    "ax.scatter(x, y)\n",
    "\n",
    "for i, txt in enumerate(x):\n",
    "    ax.annotate(txt, (x[i], y[i]))"
   ]
  },
  {
   "cell_type": "markdown",
   "metadata": {},
   "source": [
    "Since is very difficult to read this plot it since the cities are really too much we can display it in order.\\"
   ]
  },
  {
   "cell_type": "code",
   "execution_count": null,
   "metadata": {},
   "outputs": [],
   "source": [
    "\n",
    "ordered_cities_for_visit= (list(zip(cities_in_order,number)))\n",
    "ordered_cities_for_visit.sort(key=lambda x:x[1])\n",
    "ordered_cities_for_visit.reverse()\n",
    "ordered_cities_for_visit"
   ]
  },
  {
   "cell_type": "markdown",
   "metadata": {},
   "source": [
    "### 5.4 How many pictures-only posts have they published? How many reels? (only videos) and how many with both contents? Provide the number as percentages and interpret those figures."
   ]
  },
  {
   "cell_type": "code",
   "execution_count": null,
   "metadata": {},
   "outputs": [],
   "source": [
    "top = top_n_users_loc(10)\n",
    "perc_photos = top[top[\"post_type\"]==1].shape[0]/top.shape[0]\n",
    "perc_only_videos = top[top[\"post_type\"]==2].shape[0]/top.shape[0]\n",
    "perc_multy = top[top[\"post_type\"]==3].shape[0]/top.shape[0]"
   ]
  },
  {
   "cell_type": "code",
   "execution_count": null,
   "metadata": {},
   "outputs": [],
   "source": [
    "print(\"The percentage of posts that include only photos in the top users is: \",perc_photos)\n",
    "print(\"The percentage of posts that include only videos in the top users is: \",perc_only_videos)\n",
    "print(\"The percentage of posts that include both photos and videos in the top users is: \",perc_multy)"
   ]
  },
  {
   "cell_type": "code",
   "execution_count": null,
   "metadata": {},
   "outputs": [],
   "source": [
    "y = np.array([perc_photos,perc_only_videos,perc_multy])\n",
    "mylabels = [\"Only photos\", \"Only videos\",\"Multy\"]\n",
    "plt.pie(y,labels = mylabels,autopct='%1.2f%%')\n",
    "plt.show()"
   ]
  },
  {
   "cell_type": "markdown",
   "metadata": {},
   "source": [
    "As we can notice the great mayority of posts published by the famous accounts are only with photos.\\\n",
    "Maybe the data were collected before the advent of \"tiktok\", which increased the publication of video-only posts.\\\n",
    "Photos may garner more engagement on platforms where users scroll through media quickly,\\\n",
    " while videos may be more successful on platforms where users are actively seeking out specific or detailed content.\\\n",
    "So makes totally sense that users on Instagram prefer to publish posts with only photos.\n"
   ]
  },
  {
   "cell_type": "markdown",
   "metadata": {},
   "source": [
    "### 5.5 How many \"likes\" and comments did posts with only pictures receive? How about videos and mixed posts? Try to provide the average numbers and confront them with their followers amount, explaining what you can say from that comparison."
   ]
  },
  {
   "cell_type": "markdown",
   "metadata": {},
   "source": [
    "We convert the column of \"numbr_likes\" and \"number_comments\" in a numpy array to perform operations more efficiently."
   ]
  },
  {
   "cell_type": "code",
   "execution_count": null,
   "metadata": {},
   "outputs": [],
   "source": [
    "list_likes_1 = top[top[\"post_type\"]==1][\"numbr_likes\"].tolist()\n",
    "list_likes_1 = np.array(list_likes_1)\n",
    "mean_likes_1 = np.mean(list_likes_1.astype(float))\n",
    "list_comm_1 = top[top[\"post_type\"]==1][\"number_comments\"].tolist()\n",
    "list_comm_1 = np.array(list_comm_1)\n",
    "mean_comm_1 = np.mean(list_comm_1.astype(float))\n",
    "print(\"This is the mean of the numbers of likes of the posts wuth only photos of the 10 best profiles(in terms of followers):\",mean_likes_1)\n",
    "print(\"This is the mean of the numbers of comments of the posts wuth only photos of the 10 best profiles(in terms of followers):\",mean_comm_1)"
   ]
  },
  {
   "cell_type": "code",
   "execution_count": null,
   "metadata": {},
   "outputs": [],
   "source": [
    "list_likes_2 = top[top[\"post_type\"]==2][\"numbr_likes\"].tolist()\n",
    "list_likes_2 = np.array(list_likes_2)\n",
    "mean_likes_2 = np.mean(list_likes_2.astype(float))\n",
    "list_comm_2 = top[top[\"post_type\"]==2][\"number_comments\"].tolist()\n",
    "list_comm_2 = np.array(list_comm_2)\n",
    "mean_comm_2 = np.mean(list_comm_2.astype(float))\n",
    "print(\"This is the mean of the numbers of likes of the posts wuth only videos of the 10 best profiles(in terms of followers):\",mean_likes_2)\n",
    "print(\"This is the mean of the numbers of comments of the posts wuth only videos of the 10 best profiles(in terms of followers):\",mean_comm_2)"
   ]
  },
  {
   "cell_type": "code",
   "execution_count": null,
   "metadata": {},
   "outputs": [],
   "source": [
    "list_likes_3 = top[top[\"post_type\"]==3][\"numbr_likes\"].tolist()\n",
    "list_likes_3 = np.array(list_likes_3)\n",
    "if len(list_likes_3!=0):\n",
    "    mean_likes_3 = np.mean(list_likes_3.astype(float))\n",
    "else:\n",
    "    mean_likes_3=0\n",
    "list_comm_3 = top[top[\"post_type\"]==3][\"number_comments\"].tolist()\n",
    "list_comm_3 = np.array(list_comm_3)\n",
    "if len(list_comm_3!=0):\n",
    "    mean_comm_3 = np.mean(list_comm_3.astype(float))\n",
    "else:\n",
    "    mean_comm_3=0\n",
    "print(\"This is the mean of the numbers of likes of the posts with both photos and vides of the 10 best profiles(in terms of followers):\",mean_likes_3)\n",
    "print(\"This is the mean of the numbers of comments of the posts with both photos and vides of the 10 best profiles(in terms of followers):\",mean_comm_3)"
   ]
  },
  {
   "cell_type": "markdown",
   "metadata": {},
   "source": [
    "Now we evaluate the mean of followers of the top 10 profiles and we compare the result obtained "
   ]
  },
  {
   "cell_type": "code",
   "execution_count": null,
   "metadata": {},
   "outputs": [],
   "source": [
    "top_n_profiles = profiles.sort_values(by=['followers'], ascending = False).head(10)\n",
    "mean_followers = top_n_profiles[\"followers\"].mean()"
   ]
  },
  {
   "cell_type": "code",
   "execution_count": null,
   "metadata": {},
   "outputs": [],
   "source": [
    "print(\"This is the division between the mean of the likes of the posts with photos and mean of followers:\",mean_likes_1/mean_followers)\n",
    "print(\"This is the division between the mean of the likes of the posts with videos and mean of followers:\",mean_likes_2/mean_followers)\n",
    "print(\"This is the division between the mean of the likes of the posts with both photos and videos and mean of followers:\",mean_likes_3/mean_followers)\n",
    "print(\"This is the division between the mean of the comments of the posts with photos and mean of followers:\",mean_comm_1/mean_followers)\n",
    "print(\"This is the division between the mean of the comments of the posts with videos and mean of followers:\",mean_comm_2/mean_followers)\n",
    "print(\"This is the division between the mean of the comments of the posts with both photos and videos and mean of followers:\",mean_comm_3/mean_followers)"
   ]
  },
  {
   "cell_type": "markdown",
   "metadata": {},
   "source": [
    "Since the results are very small we can deduce that the followers of this top 10 profiles are not so genuine.\\\n",
    "Since these profiles are very famous it's possible that a huge numbers of bots follow the accounts,\\\n",
    " and of course they don't generate any type of interactions(likes or comments).\\\n",
    "The posts with only photos generate more interations than the ones with only videos or multy.\\\n",
    "This information can be useful for someone who have the priorities to generate more likes or comments to became a trend in the researches of Instagram.\n"
   ]
  }
 ],
 "metadata": {
  "kernelspec": {
   "display_name": "Python 3.9.7 ('base')",
   "language": "python",
   "name": "python3"
  },
  "language_info": {
   "codemirror_mode": {
    "name": "ipython",
    "version": 3
   },
   "file_extension": ".py",
   "mimetype": "text/x-python",
   "name": "python",
   "nbconvert_exporter": "python",
   "pygments_lexer": "ipython3",
   "version": "3.9.7"
  },
  "orig_nbformat": 4,
  "vscode": {
   "interpreter": {
    "hash": "28ea75b7d9dd5b325cb9a751dc34da71a10f8944bac9b4ff454d9595cb15b82f"
   }
  }
 },
 "nbformat": 4,
 "nbformat_minor": 2
}
