{
 "cells": [
  {
   "cell_type": "markdown",
   "id": "c4c76f74",
   "metadata": {},
   "source": [
    "## [RQ4] In most cases, we will not have a consistent dataset, and the one we are dealing with is not an exception (ex. in the given datasets, you may not find the information of the profiles for some of the posts). So let’s enhance our analysis."
   ]
  },
  {
   "cell_type": "code",
   "execution_count": 1,
   "id": "8c17550e",
   "metadata": {},
   "outputs": [],
   "source": [
    "import pandas as pd\n",
    "import numpy as np\n",
    "import matplotlib.pyplot as plt"
   ]
  },
  {
   "cell_type": "code",
   "execution_count": 2,
   "id": "77a3944f",
   "metadata": {},
   "outputs": [],
   "source": [
    "posts = pd.read_feather(\"sample.fea\")\n",
    "locations = pd.read_csv(\"instagram_locations.csv\",delimiter=\"\\t\")\n",
    "profiles = pd.read_csv(\"instagram_profiles.csv\",delimiter=\"\\t\")"
   ]
  },
  {
   "cell_type": "code",
   "execution_count": 3,
   "id": "3df45a39",
   "metadata": {},
   "outputs": [],
   "source": [
    "posts.description.fillna(\"\",inplace=True)\n",
    "posts.profile_id.fillna(0,inplace=True)\n",
    "posts.location_id.fillna(0,inplace=True)\n",
    "posts.cts.fillna(\"\",inplace=True)\n",
    "posts.numbr_likes.fillna(0,inplace=True)\n",
    "posts.number_comments.fillna(0,inplace=True)"
   ]
  },
  {
   "cell_type": "code",
   "execution_count": 4,
   "id": "29499818",
   "metadata": {},
   "outputs": [],
   "source": [
    "profiles.following.fillna(0,inplace=True)\n",
    "profiles.followers.fillna(0,inplace=True)\n",
    "profiles.n_posts.fillna(0,inplace=True)\n",
    "profiles.description.fillna(\"\",inplace=True)\n",
    "profiles.firstname_lastname.fillna(\"\",inplace=True)\n",
    "profiles.url.fillna(\"\",inplace=True)\n",
    "profiles.cts.fillna(\"\",inplace=True)\n",
    "profiles.is_business_account.fillna(False,inplace=True)\n",
    "profiles.profile_id.fillna(0,inplace=True)"
   ]
  },
  {
   "cell_type": "code",
   "execution_count": 5,
   "id": "c01ffb07",
   "metadata": {},
   "outputs": [],
   "source": [
    "#locations.following.fillna(0,inplace=True)\n",
    "#locations.followers.fillna(0,inplace=True)\n",
    "#locations.n_posts.fillna(0,inplace=True)\n",
    "#locations.description.fillna(\"\",inplace=True)\n",
    "#locations.firstname_lastname.fillna(\"\",inplace=True)\n",
    "#locations.url.fillna(\"\",inplace=True)\n",
    "#locations.is_business_account.fillna(False,inplace=True)\n",
    "#locations.profile_id.fillna(0,inplace=True)"
   ]
  },
  {
   "cell_type": "markdown",
   "id": "4c5971c7",
   "metadata": {},
   "source": [
    "### 4.1 Write a function that, given a profile_id, will be able to return the posts that belong to the given profile_id."
   ]
  },
  {
   "cell_type": "markdown",
   "id": "ed643652",
   "metadata": {},
   "source": [
    "In this function we need to pass the profile_id of a profile and it will return a dataframe with all the posts published by this user.  \n",
    "There is also an example in the next cell"
   ]
  },
  {
   "cell_type": "code",
   "execution_count": 33,
   "id": "bf0d3c38",
   "metadata": {},
   "outputs": [],
   "source": [
    "def return_posts(profile_id):\n",
    "    posts_of_profile = posts[posts[\"profile_id\"]==profile_id]\n",
    "    return posts_of_profile    "
   ]
  },
  {
   "cell_type": "markdown",
   "id": "ba677262",
   "metadata": {},
   "source": [
    "### Test"
   ]
  },
  {
   "cell_type": "code",
   "execution_count": 7,
   "id": "ecd98e92",
   "metadata": {},
   "outputs": [
    {
     "data": {
      "text/plain": [
       "11357330613.0"
      ]
     },
     "execution_count": 7,
     "metadata": {},
     "output_type": "execute_result"
    }
   ],
   "source": [
    "posts.iloc[6888,:][\"profile_id\"]"
   ]
  },
  {
   "cell_type": "code",
   "execution_count": 8,
   "id": "e8cd6e46",
   "metadata": {},
   "outputs": [
    {
     "data": {
      "text/html": [
       "<div>\n",
       "<style scoped>\n",
       "    .dataframe tbody tr th:only-of-type {\n",
       "        vertical-align: middle;\n",
       "    }\n",
       "\n",
       "    .dataframe tbody tr th {\n",
       "        vertical-align: top;\n",
       "    }\n",
       "\n",
       "    .dataframe thead th {\n",
       "        text-align: right;\n",
       "    }\n",
       "</style>\n",
       "<table border=\"1\" class=\"dataframe\">\n",
       "  <thead>\n",
       "    <tr style=\"text-align: right;\">\n",
       "      <th></th>\n",
       "      <th>sid</th>\n",
       "      <th>sid_profile</th>\n",
       "      <th>post_id</th>\n",
       "      <th>profile_id</th>\n",
       "      <th>location_id</th>\n",
       "      <th>cts</th>\n",
       "      <th>post_type</th>\n",
       "      <th>description</th>\n",
       "      <th>numbr_likes</th>\n",
       "      <th>number_comments</th>\n",
       "    </tr>\n",
       "  </thead>\n",
       "  <tbody>\n",
       "    <tr>\n",
       "      <th>6888</th>\n",
       "      <td>40756453</td>\n",
       "      <td>4089853</td>\n",
       "      <td>ByumbfphdR2</td>\n",
       "      <td>1.135733e+10</td>\n",
       "      <td>0.0</td>\n",
       "      <td>2019-06-15 13:06:49.000</td>\n",
       "      <td>1</td>\n",
       "      <td>Do you like our new bathmat\\n#cockapoosofinsta...</td>\n",
       "      <td>49.0</td>\n",
       "      <td>1.0</td>\n",
       "    </tr>\n",
       "    <tr>\n",
       "      <th>1089901</th>\n",
       "      <td>40756456</td>\n",
       "      <td>4089853</td>\n",
       "      <td>BxnSSCVh-RD</td>\n",
       "      <td>1.135733e+10</td>\n",
       "      <td>228607911.0</td>\n",
       "      <td>2019-05-18 20:24:41.000</td>\n",
       "      <td>1</td>\n",
       "      <td>Next walk organised in collaboration with Ches...</td>\n",
       "      <td>30.0</td>\n",
       "      <td>2.0</td>\n",
       "    </tr>\n",
       "    <tr>\n",
       "      <th>3518318</th>\n",
       "      <td>40756455</td>\n",
       "      <td>4089853</td>\n",
       "      <td>BxosvS6B4k7</td>\n",
       "      <td>1.135733e+10</td>\n",
       "      <td>786595292.0</td>\n",
       "      <td>2019-05-19 09:35:07.000</td>\n",
       "      <td>1</td>\n",
       "      <td>Having a great time at the Tatton walk yesterd...</td>\n",
       "      <td>68.0</td>\n",
       "      <td>3.0</td>\n",
       "    </tr>\n",
       "  </tbody>\n",
       "</table>\n",
       "</div>"
      ],
      "text/plain": [
       "              sid  sid_profile      post_id    profile_id  location_id  \\\n",
       "6888     40756453      4089853  ByumbfphdR2  1.135733e+10          0.0   \n",
       "1089901  40756456      4089853  BxnSSCVh-RD  1.135733e+10  228607911.0   \n",
       "3518318  40756455      4089853  BxosvS6B4k7  1.135733e+10  786595292.0   \n",
       "\n",
       "                             cts  post_type  \\\n",
       "6888     2019-06-15 13:06:49.000          1   \n",
       "1089901  2019-05-18 20:24:41.000          1   \n",
       "3518318  2019-05-19 09:35:07.000          1   \n",
       "\n",
       "                                               description  numbr_likes  \\\n",
       "6888     Do you like our new bathmat\\n#cockapoosofinsta...         49.0   \n",
       "1089901  Next walk organised in collaboration with Ches...         30.0   \n",
       "3518318  Having a great time at the Tatton walk yesterd...         68.0   \n",
       "\n",
       "         number_comments  \n",
       "6888                 1.0  \n",
       "1089901              2.0  \n",
       "3518318              3.0  "
      ]
     },
     "metadata": {},
     "output_type": "display_data"
    }
   ],
   "source": [
    "display(return_posts(11357330613.0))"
   ]
  },
  {
   "cell_type": "markdown",
   "id": "ed6c7740",
   "metadata": {},
   "source": [
    "### 4.2 Write another function that, given an input n (an integer), will return the posts that belong to the n top posted profiles (top n profiles that have posted the highest number of posts) that their data is available in the profile.csv using the previously written function."
   ]
  },
  {
   "cell_type": "code",
   "execution_count": 24,
   "id": "07e9b0f0",
   "metadata": {},
   "outputs": [],
   "source": [
    "def top_n_users(n):\n",
    "    index = set()\n",
    "    top_n_profiles = profiles.sort_values(by=['n_posts'], ascending = False).head(n)\n",
    "    for i in range(n):\n",
    "        index.add(top_n_profiles.iloc[i,:][\"profile_id\"])\n",
    "    new_dataset = posts[posts[\"profile_id\"].isin(index)]\n",
    "    return new_dataset.sort_values(by=\"profile_id\",ascending=False)"
   ]
  },
  {
   "cell_type": "markdown",
   "id": "711dd967",
   "metadata": {},
   "source": [
    "### Test"
   ]
  },
  {
   "cell_type": "code",
   "execution_count": 35,
   "id": "3112431a",
   "metadata": {},
   "outputs": [
    {
     "name": "stdout",
     "output_type": "stream",
     "text": [
      "An example with the top 4 profiles:\n"
     ]
    },
    {
     "data": {
      "text/html": [
       "<div>\n",
       "<style scoped>\n",
       "    .dataframe tbody tr th:only-of-type {\n",
       "        vertical-align: middle;\n",
       "    }\n",
       "\n",
       "    .dataframe tbody tr th {\n",
       "        vertical-align: top;\n",
       "    }\n",
       "\n",
       "    .dataframe thead th {\n",
       "        text-align: right;\n",
       "    }\n",
       "</style>\n",
       "<table border=\"1\" class=\"dataframe\">\n",
       "  <thead>\n",
       "    <tr style=\"text-align: right;\">\n",
       "      <th></th>\n",
       "      <th>sid</th>\n",
       "      <th>sid_profile</th>\n",
       "      <th>post_id</th>\n",
       "      <th>profile_id</th>\n",
       "      <th>location_id</th>\n",
       "      <th>cts</th>\n",
       "      <th>post_type</th>\n",
       "      <th>description</th>\n",
       "      <th>numbr_likes</th>\n",
       "      <th>number_comments</th>\n",
       "    </tr>\n",
       "  </thead>\n",
       "  <tbody>\n",
       "    <tr>\n",
       "      <th>1815181</th>\n",
       "      <td>11234220</td>\n",
       "      <td>3970193</td>\n",
       "      <td>BpfufadAl1f</td>\n",
       "      <td>1.273455e+09</td>\n",
       "      <td>3.786337e+08</td>\n",
       "      <td>2018-10-29 00:46:06.000</td>\n",
       "      <td>1</td>\n",
       "      <td></td>\n",
       "      <td>3.0</td>\n",
       "      <td>0.0</td>\n",
       "    </tr>\n",
       "    <tr>\n",
       "      <th>378273</th>\n",
       "      <td>37701783</td>\n",
       "      <td>3661552</td>\n",
       "      <td>BzRkojLJBMQ</td>\n",
       "      <td>1.996648e+08</td>\n",
       "      <td>0.000000e+00</td>\n",
       "      <td>2019-06-29 03:04:33.000</td>\n",
       "      <td>1</td>\n",
       "      <td></td>\n",
       "      <td>10.0</td>\n",
       "      <td>0.0</td>\n",
       "    </tr>\n",
       "    <tr>\n",
       "      <th>694159</th>\n",
       "      <td>28243843</td>\n",
       "      <td>3661552</td>\n",
       "      <td>Bq_MiKhhP05</td>\n",
       "      <td>1.996648e+08</td>\n",
       "      <td>2.807740e+08</td>\n",
       "      <td>2018-12-05 02:36:28.000</td>\n",
       "      <td>1</td>\n",
       "      <td></td>\n",
       "      <td>3.0</td>\n",
       "      <td>0.0</td>\n",
       "    </tr>\n",
       "    <tr>\n",
       "      <th>1487769</th>\n",
       "      <td>37701690</td>\n",
       "      <td>3661552</td>\n",
       "      <td>BzUmhW0pjrN</td>\n",
       "      <td>1.996648e+08</td>\n",
       "      <td>0.000000e+00</td>\n",
       "      <td>2019-06-30 07:18:46.000</td>\n",
       "      <td>1</td>\n",
       "      <td></td>\n",
       "      <td>2.0</td>\n",
       "      <td>0.0</td>\n",
       "    </tr>\n",
       "    <tr>\n",
       "      <th>2604542</th>\n",
       "      <td>24906254</td>\n",
       "      <td>3661552</td>\n",
       "      <td>BCqCe9LypeF</td>\n",
       "      <td>1.996648e+08</td>\n",
       "      <td>1.029569e+09</td>\n",
       "      <td>2016-03-07 16:28:50.000</td>\n",
       "      <td>1</td>\n",
       "      <td>#تصويري</td>\n",
       "      <td>27.0</td>\n",
       "      <td>0.0</td>\n",
       "    </tr>\n",
       "    <tr>\n",
       "      <th>3729520</th>\n",
       "      <td>25468626</td>\n",
       "      <td>3661552</td>\n",
       "      <td>20Wu4zypd2</td>\n",
       "      <td>1.996648e+08</td>\n",
       "      <td>2.373984e+08</td>\n",
       "      <td>2015-05-18 11:21:27.000</td>\n",
       "      <td>1</td>\n",
       "      <td>#تصويري</td>\n",
       "      <td>28.0</td>\n",
       "      <td>0.0</td>\n",
       "    </tr>\n",
       "    <tr>\n",
       "      <th>850982</th>\n",
       "      <td>16085233</td>\n",
       "      <td>3621669</td>\n",
       "      <td>BGjtWmjttS1</td>\n",
       "      <td>9.813508e+06</td>\n",
       "      <td>2.381570e+06</td>\n",
       "      <td>2016-06-12 16:34:20.000</td>\n",
       "      <td>2</td>\n",
       "      <td></td>\n",
       "      <td>0.0</td>\n",
       "      <td>0.0</td>\n",
       "    </tr>\n",
       "    <tr>\n",
       "      <th>3040433</th>\n",
       "      <td>37420360</td>\n",
       "      <td>3621669</td>\n",
       "      <td>BzMjJ57AeiI</td>\n",
       "      <td>9.813508e+06</td>\n",
       "      <td>0.000000e+00</td>\n",
       "      <td>2019-06-27 04:15:25.000</td>\n",
       "      <td>1</td>\n",
       "      <td></td>\n",
       "      <td>0.0</td>\n",
       "      <td>0.0</td>\n",
       "    </tr>\n",
       "    <tr>\n",
       "      <th>3297571</th>\n",
       "      <td>32608362</td>\n",
       "      <td>3621669</td>\n",
       "      <td>BwkAH07AXac</td>\n",
       "      <td>9.813508e+06</td>\n",
       "      <td>1.892007e+14</td>\n",
       "      <td>2019-04-22 17:16:53.000</td>\n",
       "      <td>1</td>\n",
       "      <td></td>\n",
       "      <td>0.0</td>\n",
       "      <td>0.0</td>\n",
       "    </tr>\n",
       "  </tbody>\n",
       "</table>\n",
       "</div>"
      ],
      "text/plain": [
       "              sid  sid_profile      post_id    profile_id   location_id  \\\n",
       "1815181  11234220      3970193  BpfufadAl1f  1.273455e+09  3.786337e+08   \n",
       "378273   37701783      3661552  BzRkojLJBMQ  1.996648e+08  0.000000e+00   \n",
       "694159   28243843      3661552  Bq_MiKhhP05  1.996648e+08  2.807740e+08   \n",
       "1487769  37701690      3661552  BzUmhW0pjrN  1.996648e+08  0.000000e+00   \n",
       "2604542  24906254      3661552  BCqCe9LypeF  1.996648e+08  1.029569e+09   \n",
       "3729520  25468626      3661552   20Wu4zypd2  1.996648e+08  2.373984e+08   \n",
       "850982   16085233      3621669  BGjtWmjttS1  9.813508e+06  2.381570e+06   \n",
       "3040433  37420360      3621669  BzMjJ57AeiI  9.813508e+06  0.000000e+00   \n",
       "3297571  32608362      3621669  BwkAH07AXac  9.813508e+06  1.892007e+14   \n",
       "\n",
       "                             cts  post_type description  numbr_likes  \\\n",
       "1815181  2018-10-29 00:46:06.000          1                      3.0   \n",
       "378273   2019-06-29 03:04:33.000          1                     10.0   \n",
       "694159   2018-12-05 02:36:28.000          1                      3.0   \n",
       "1487769  2019-06-30 07:18:46.000          1                      2.0   \n",
       "2604542  2016-03-07 16:28:50.000          1     #تصويري         27.0   \n",
       "3729520  2015-05-18 11:21:27.000          1     #تصويري         28.0   \n",
       "850982   2016-06-12 16:34:20.000          2                      0.0   \n",
       "3040433  2019-06-27 04:15:25.000          1                      0.0   \n",
       "3297571  2019-04-22 17:16:53.000          1                      0.0   \n",
       "\n",
       "         number_comments  \n",
       "1815181              0.0  \n",
       "378273               0.0  \n",
       "694159               0.0  \n",
       "1487769              0.0  \n",
       "2604542              0.0  \n",
       "3729520              0.0  \n",
       "850982               0.0  \n",
       "3040433              0.0  \n",
       "3297571              0.0  "
      ]
     },
     "execution_count": 35,
     "metadata": {},
     "output_type": "execute_result"
    }
   ],
   "source": [
    "print(\"An example with the top 4 profiles:\")\n",
    "top_n_users(4)"
   ]
  },
  {
   "cell_type": "code",
   "execution_count": 32,
   "id": "9f9ecbdd",
   "metadata": {},
   "outputs": [],
   "source": [
    "#This function gives a better visualization but the one before is very useful for the next exercise\n",
    "#def top_n_users2(n):\n",
    "#    top_n_profiles = profiles.sort_values(by=['n_posts'], ascending = False).head(n)\n",
    "#   for i in range(n):\n",
    "#        display(return_posts(top_n_profiles.iloc[i,:][\"profile_id\"]))\n",
    "    \n",
    "#    return "
   ]
  },
  {
   "cell_type": "markdown",
   "id": "90aa906b",
   "metadata": {},
   "source": [
    "### 4.3 What is the average number of \"likes\" and comments of the top 10 profiles with the highest number of posts which their information is available in profile.csv?"
   ]
  },
  {
   "cell_type": "code",
   "execution_count": 26,
   "id": "41925151",
   "metadata": {
    "scrolled": true
   },
   "outputs": [
    {
     "data": {
      "text/plain": [
       "4.425"
      ]
     },
     "execution_count": 26,
     "metadata": {},
     "output_type": "execute_result"
    }
   ],
   "source": [
    "top_n_users(10)[\"numbr_likes\"].mean()"
   ]
  },
  {
   "cell_type": "code",
   "execution_count": 30,
   "id": "5e7036df",
   "metadata": {},
   "outputs": [
    {
     "data": {
      "text/plain": [
       "0.025"
      ]
     },
     "execution_count": 30,
     "metadata": {},
     "output_type": "execute_result"
    }
   ],
   "source": [
    "top_n_users(10)[\"number_comments\"].mean()"
   ]
  },
  {
   "cell_type": "markdown",
   "id": "6a16caa4",
   "metadata": {},
   "source": [
    "### 4.4 Plot the number of posts that these top 10 profiles have sent on Instagram in the given interval in question RQ3. Interpret the resulting chart.\n"
   ]
  }
 ],
 "metadata": {
  "kernelspec": {
   "display_name": "Python 3 (ipykernel)",
   "language": "python",
   "name": "python3"
  },
  "language_info": {
   "codemirror_mode": {
    "name": "ipython",
    "version": 3
   },
   "file_extension": ".py",
   "mimetype": "text/x-python",
   "name": "python",
   "nbconvert_exporter": "python",
   "pygments_lexer": "ipython3",
   "version": "3.10.6"
  }
 },
 "nbformat": 4,
 "nbformat_minor": 5
}
