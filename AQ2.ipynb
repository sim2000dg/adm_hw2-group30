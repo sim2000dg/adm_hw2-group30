{
 "cells": [
  {
   "cell_type": "markdown",
   "id": "909c1d55",
   "metadata": {},
   "source": [
    "# [AQ2] Considering the following probem, answer the questions:\n",
    "\n",
    "## Alex  has a ribbon of length N. He wants to cut the ribbon in a way that fulfils the following three conditions:\n",
    " ### -Each piece of the cut should have an integer length\n",
    " ### -He should at least cut the ribbon once\n",
    " ### -The multiplication of the length of all the pieces be the maximum possible\n",
    "\n",
    "\n",
    "\n"
   ]
  },
  {
   "cell_type": "markdown",
   "id": "ce12e01f",
   "metadata": {},
   "source": [
    "## 1-Implement a recursive algorithm to help Alex find the maximum possible value after multiplying the length of the pieces. Explain your algorithm in detail.\n",
    "\n",
    "### Recursive Algorithm\n"
   ]
  },
  {
   "cell_type": "markdown",
   "id": "777b2459",
   "metadata": {},
   "source": [
    "This Algorithm uses recursion. when we call the function starter with argument \"Ribbon_Length\", it creates a list from 1 to \"Ribbon_Length\" named arr. The elements of the list are the all possible lengths for the pieces. Also it assigns \"n\" the value of length of the created array, then calls the \"Ribbon\" function.Ribbon function creates a tree with two decisions. Function either excludes the last element of \"arr\" and removes it from the array without adding it to the \"new\" list. When length of \"arr\" becomes zero it stops and continues from the upper leaf if there is any. Or it includes the element of array and adds it to the \"new\" list. If ribbon Length is 0, the product of every element in \"new\" list is added to \"Liste\", if it is smaller then 0, it returns. And maximum value of \"Liste\" is printed."
   ]
  },
  {
   "cell_type": "code",
   "execution_count": 20,
   "id": "be4318f9",
   "metadata": {},
   "outputs": [],
   "source": [
    "Liste=[]                                                                #1\n",
    "new=[]                                                                  #1 \n",
    "\n",
    "\n",
    "def Ribbon(Ribbon_Length,arr,n,new):                                    #1   \n",
    "    \n",
    "    if Ribbon_Length<0:# if sum of elements in new list is bigger then the Ribbon Length, it returns                    #1 \n",
    "        return                                                          #1 \n",
    "    if n==0:# if there is no elements left in \"arr\", it returns                                                         #1 \n",
    "        return ##print(\"Liste is 0\")                                    #1 \n",
    "    if Ribbon_Length==0:# sum of elements in new list is equal to Ribbon Length                                         #1\n",
    "                        #we will add the product of elements into a new list\n",
    "            \n",
    "        # multiplies every element of the new list\n",
    "        multip=1                                                        #1 \n",
    "        for i in new:                                                   #1\n",
    "            multip=multip*i                                             #n\n",
    "        Liste.append((multip))                                          #n\n",
    "        return ##print(\"-------işte bu---------\")                       #1\n",
    "    \n",
    "    ##print(Ribbon_Length,arr,n,new)\n",
    "    Ribbon(Ribbon_Length,arr[:n-1],n-1,new)#exclude: removes the last element of \"arr\" without adding                   #T(n-1)\n",
    "    \n",
    "    #adds last element of arr to the new list \"newest\"\n",
    "    newest=[]                                                           #1\n",
    "    newest=newest+new                                                   #1\n",
    "    newest.append(arr[-1])                                              #1\n",
    "    \n",
    "    Ribbon(Ribbon_Length-arr[-1],arr,n,newest)#include: appends last element of arr to the new list                     #T(n-1)\n",
    "    \n",
    "    \n",
    "def Ribbon_S(Ribbon_Length):#Creates arguments needed for Ribbon function and calls it                                  #1\n",
    "    arr=[i for i in range(1,Ribbon_Length)]                             #n-1\n",
    "    n=len(arr)                                                          #1\n",
    "    Ribbon(Ribbon_Length,arr,n,new)                                     #T(n)\n",
    "    #print(max(Liste))                                                   #n\n",
    "    \n"
   ]
  },
  {
   "cell_type": "markdown",
   "id": "c4c53e51",
   "metadata": {},
   "source": [
    "## 2-Show that the algorithm has exponential running time.\n"
   ]
  },
  {
   "cell_type": "markdown",
   "id": "3339c8ec",
   "metadata": {},
   "source": [
    "T(n)=2n + 12 + 2T(n-1)\n",
    "\n",
    "T(1)=4\n",
    "\n",
    "T(2)=2*4 + 12 + 2T(1)\n",
    "    =2*4 + 12 + 2*4\n",
    "    =28\n",
    "    \n",
    "T(3)=2*3 + 12 + 2T(2)\n",
    "\n",
    "T(4)=2*4 + 12 + 2T(3)\n",
    "    =2*4 + 12 + 2(2*3 + 12 + 2T(2))\n",
    "    =56+2T(2) \n",
    "    =56+ 2^1*T(2)\n",
    "    \n",
    "T(5)=2*5 + 12 + 2T(4)\n",
    "    =2*5 + 12 + 2(2*4 + 12 + 2(2*3 + 12 + 2T(2)))\n",
    "    =2*5 + 12 + 2(56+2T(2))\n",
    "    =134+4T(2)\n",
    "    =134+ 2^2*T(2)\n",
    "\n",
    "T(6)=2*6 + 12 + 2T(5)\n",
    "    =2*6 + 12 + 2(134+4T(2))\n",
    "    =2*6 + 12 + 268+8T(2))\n",
    "    =292+8T(2)\n",
    "    =292+ 2^3*T(2)\n",
    "  \n",
    "T(n)=2*n + 2^n-1(T(n-1)+ c
    "O(n)= 2^n\n",
    " \n",
    "\n",
    "    \n"
   ]
  },
  {
   "cell_type": "markdown",
   "id": "9bdf6808",
   "metadata": {},
   "source": [
    "# 3-Now provide a polynomial solution, based on dynamic programming, and compute its running-time complexity.\n"
   ]
  },
  {
   "cell_type": "markdown",
   "id": "fba5c2ff",
   "metadata": {},
   "source": [
    "Every positive number can be written as the sum of multiplies of twos and multiplies of threes. And having maximum amount of threes gives the biggest value of the product. So the function checks if Ribbon_Length is 2,it returns 1 and if Ribbon_Length is 3, it returns 2. And any other number is written as the multiplies of twos and threes. To do that function divides \"Ribbon_Length\" by 3 without remainders and assigns the value to \"threes\".And assign 0 to \"twos\" Then checks for the remainders. If the Remainder is 1, substract 1 from\"threes\" and adds 2 to \"twos\". also if the remainder is two, It counts this two to the \"twos\". so 1 is added to \"twos\". at the end function returns\n",
    "3^threes * 2^twos. And this is the biggest product"
   ]
  },
  {
   "cell_type": "code",
   "execution_count": 139,
   "id": "69437624",
   "metadata": {},
   "outputs": [],
   "source": [
    "def Ribbon_dyn(Ribbon_Length):\n",
    "        # base checks\n",
    "        if (Ribbon_Length==2 or Ribbon_Length==3):                      #1\n",
    "            return(Ribbon_Length-1)                                     #1\n",
    "        #writing the number as sum of multiplies of 2 and 3\n",
    "        threes=Ribbon_Length//3                                         #1\n",
    "        twos=0                                                          #1\n",
    "        if  Ribbon_Length%3==1:                                         #1\n",
    "            threes=threes-1                                             #1\n",
    "            twos=twos+2                                                 #1\n",
    "        elif Ribbon_Length%3==2:                                        #1\n",
    "            twos += 1                                                   #1\n",
    "        return  (3**threes) * (2**twos)#returns the product             #logn\n"
   ]
  },
  {
   "cell_type": "markdown",
   "id": "9d069a8d",
   "metadata": {},
   "source": [
    "\"**\" operation has logn complexity\n",
    "T(n)=logn10+\n",
    "O(n)=logn\n"
   ]
  },
  {
   "cell_type": "markdown",
   "id": "96a76146",
   "metadata": {},
   "source": [
    "## 4-Evaluate the running time of your algorithm for the sizes (Ns) in the range of [2, 25], plot the results, and interpret it (if you have implemented two algorithms, please include both in the plot and compare them).\n"
   ]
  },
  {
   "cell_type": "code",
   "execution_count": 8,
   "id": "5675fe70",
   "metadata": {},
   "outputs": [],
   "source": [
    "import timeit\n",
    "import numpy as np\n",
    "from matplotlib import pyplot\n"
   ]
  },
  {
   "cell_type": "code",
   "execution_count": 154,
   "id": "35dff7b0",
   "metadata": {},
   "outputs": [
    {
     "data": {
      "image/png": "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\n",
      "text/plain": [
       "<Figure size 432x288 with 2 Axes>"
      ]
     },
     "metadata": {
      "needs_background": "light"
     },
     "output_type": "display_data"
    }
   ],
   "source": [
    "fig, (ax1, ax2) = plt.subplots(1, 2, sharey=True)\n",
    "n=5\n",
    "TimeList1 = []\n",
    "#code calculates how long does it take to run Ribbon_S() function when we give 2 to 25 values. in global \n",
    "#namespace with 5 repetitons\n",
    "for i in range(2,25):\n",
    "    TimeList1.append(timeit.timeit(stmt='Ribbon_S(i)', globals=globals(), number=n))\n",
    "#preparing the plot\n",
    "xpoints = range(2,25)\n",
    "ypoints = TimeList1\n",
    "ax1.plot(xpoints, ypoints)\n",
    "\n",
    "#----------------------------------------------------------------------\n",
    "TimeList_dy=[]\n",
    "\n",
    "#code calculates how long does it take to run Ribbon_dyn() function when we give 2 to 25 values. in global \n",
    "#namespace with 5 repetitons\n",
    "for i in range(2,25):\n",
    "    TimeList_dy.append(timeit.timeit(stmt='Ribbon_dyn(i)', globals=globals(), number=n))\n",
    "\n",
    "#preparing the plot\n",
    "xpoints_dy = range(2,25)\n",
    "ypoints_dy = TimeList_dy\n",
    "\n",
    "#titles and labels\n",
    "ax1.set_title(\"recursive\")\n",
    "ax2.set_title(\"dynamic\")\n",
    "ax1.set_ylabel(\"time\",fontsize=13)\n",
    "ax1.set_xlabel(\"data input\")\n",
    "ax2.set_xlabel(\"data input\")\n",
    "fig.suptitle('Running Times', fontsize=16,x=0.538,y=1.15 )\n",
    "\n",
    "ax2.plot(xpoints_dy, ypoints_dy)\n",
    "plt.show()"
   ]
  },
  {
   "cell_type": "markdown",
   "id": "61edc425",
   "metadata": {},
   "source": [
    "We can see recursive function is growing exponantially and next to it dynamic solutions running time looks stable. Recursive function takes much more time to compute bigger values"
   ]
  },
  {
   "cell_type": "markdown",
   "id": "df695af2",
   "metadata": {},
   "source": [
    "# #5-(Optional, mini bonus) Is the algorithm of question 3 optimal? If you belive it, can you prove it? If not, can you find a faster algorithm? In case you found a faster algorithm implement it and explain your algorithm in detail."
   ]
  },
  {
   "cell_type": "markdown",
   "id": "e4345520",
   "metadata": {},
   "source": [
    "calculating powers with \"**\" operator has O(logn) complexity but calculating with math.pow() has O(1) complexity and we can see using math.pow() gives a slightly faster algorithm"
   ]
  },
  {
   "cell_type": "code",
   "execution_count": 156,
   "id": "c737a2e3",
   "metadata": {},
   "outputs": [
    {
     "data": {
      "image/png": "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\n",
      "text/plain": [
       "<Figure size 432x288 with 2 Axes>"
      ]
     },
     "metadata": {
      "needs_background": "light"
     },
     "output_type": "display_data"
    }
   ],
   "source": [
    "\n",
    "#same function with Ribbon_dyn except for exponentiation we used math.pow() function instead of \"**\"  \n",
    "import math\n",
    "def Ribbon_dyn_O1(Ribbon_Length):\n",
    "        # base Checks\n",
    "        if (Ribbon_Length==2 or Ribbon_Length==3):                      #1\n",
    "            return(Ribbon_Length-1)                                     #1\n",
    "        #writing the number as sum of multiplies of 2 and 3\n",
    "        threes=Ribbon_Length//3                                         #1\n",
    "        twos=0                                                          #1\n",
    "        if  Ribbon_Length%3==1:                                         #1\n",
    "            threes=threes-1                                             #1\n",
    "            twos=twos+2                                                 #1\n",
    "        elif Ribbon_Length%3==2:                                        #1\n",
    "            twos += 1                                                   #1\n",
    "            \n",
    "        #math.pow() has O(1) complexity\n",
    "        return math.pow(3,threes) * math.pow(2,twos)                    #1\n",
    "#----------------------------------------------------------------------\n",
    "\n",
    "fig, (ax1, ax2) = plt.subplots(1, 2, sharey=True)\n",
    "n=5\n",
    "TimeList_dy_O1=[]\n",
    "\n",
    "\n",
    "#code calculates how long does it take to run Ribbon_dyn_O1() function when we give 2 to 1000 values. in global \n",
    "#namespace with 5 repetitons\n",
    "for i in range(2,1000):\n",
    "    TimeList_dy_O1.append(timeit.timeit(stmt='Ribbon_dyn_O1(i)', globals=globals(), number=n))\n",
    "xpoints = range(2,1000)\n",
    "ypoints = TimeList_dy_O1\n",
    "ax1.scatter(xpoints, ypoints, s=0.1)\n",
    "\n",
    "#----------------------------------------------------------------------\n",
    "TimeList_dy=[]\n",
    "\n",
    "#code calculates how long does it take to run Ribbon_dyn() function when we give 2 to 1000 values. in global \n",
    "#namespace with 5 repetitons\n",
    "for i in range(2,1000):\n",
    "    TimeList_dy.append(timeit.timeit(stmt='Ribbon_dyn(i)', globals=globals(), number=n))\n",
    "ax2.scatter(xpoints_dy, ypoints_dy,s=0.1)\n",
    "xpoints_dy = range(2,1000)\n",
    "ypoints_dy = TimeList_dy\n",
    "\n",
    "#titles and labels\n",
    "ax1.set_title(\"with math.pow()\")\n",
    "ax2.set_title(\"with **\")\n",
    "ax1.set_ylabel(\"time\",fontsize=13)\n",
    "ax1.set_xlabel(\"data input\")\n",
    "ax2.set_xlabel(\"data input\")\n",
    "fig.suptitle('Running Times', fontsize=16,x=0.538,y=1.15 )\n",
    "plt.show()\n",
    "\n"
   ]
  }
 ],
 "metadata": {
  "kernelspec": {
   "display_name": "Python 3 (ipykernel)",
   "language": "python",
   "name": "python3"
  },
  "language_info": {
   "codemirror_mode": {
    "name": "ipython",
    "version": 3
   },
   "file_extension": ".py",
   "mimetype": "text/x-python",
   "name": "python",
   "nbconvert_exporter": "python",
   "pygments_lexer": "ipython3",
   "version": "3.9.12"
  }
 },
 "nbformat": 4,
 "nbformat_minor": 5
}
