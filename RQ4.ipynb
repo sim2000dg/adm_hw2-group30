{
 "cells": [
  {
   "cell_type": "markdown",
   "metadata": {},
   "source": [
    "## [RQ4] In most cases, we will not have a consistent dataset, and the one we are dealing with is not an exception (ex. in the given datasets, you may not find the information of the profiles for some of the posts). So let’s enhance our analysis."
   ]
  },
  {
   "cell_type": "code",
   "execution_count": null,
   "metadata": {},
   "outputs": [],
   "source": [
    "import pandas as pd\n",
    "import numpy as np\n",
    "import matplotlib.pyplot as plt"
   ]
  },
  {
   "cell_type": "markdown",
   "metadata": {},
   "source": [
    "Now we will import only the columns we are interested in of the data set \"instagram_posts.csv\".\\\n",
    "Then we will import the other two dataset \"instagram_locations.csv\" and \"instagram_profiles.csv\".\\\n",
    "Later we will fill all the NA values that we are interested because otherwise we can find some problems with operations."
   ]
  },
  {
   "cell_type": "code",
   "execution_count": null,
   "metadata": {},
   "outputs": [],
   "source": [
    "cols=pd.read_csv(\"instagram_posts.csv\",delimiter=\"\\t\",nrows=1).columns.values.tolist()\n",
    "ignore_col=(\"description\",\"sid\",\"cts\",\"id\")\n",
    "posts = pd.read_csv(\"instagram_posts.csv\",delimiter=\"\\t\",parse_dates=[5],infer_datetime_format=True, usecols=[x for x in cols if x not in ignore_col])"
   ]
  },
  {
   "cell_type": "code",
   "execution_count": null,
   "metadata": {},
   "outputs": [],
   "source": [
    "profiles = pd.read_csv(\"instagram_profiles.csv\",delimiter=\"\\t\")"
   ]
  },
  {
   "cell_type": "code",
   "execution_count": null,
   "metadata": {},
   "outputs": [],
   "source": [
    "posts.profile_id.fillna(0,inplace=True)\n",
    "posts.location_id.fillna(0,inplace=True)\n",
    "posts.numbr_likes.fillna(0,inplace=True)\n",
    "posts.number_comments.fillna(0,inplace=True)"
   ]
  },
  {
   "cell_type": "code",
   "execution_count": null,
   "metadata": {},
   "outputs": [],
   "source": [
    "profiles.following.fillna(0,inplace=True)\n",
    "profiles.followers.fillna(0,inplace=True)\n",
    "profiles.n_posts.fillna(0,inplace=True)\n",
    "profiles.description.fillna(\"\",inplace=True)\n",
    "profiles.firstname_lastname.fillna(\"\",inplace=True)\n",
    "profiles.url.fillna(\"\",inplace=True)\n",
    "profiles.cts.fillna(\"\",inplace=True)\n",
    "profiles.is_business_account.fillna(False,inplace=True)\n",
    "profiles.profile_id.fillna(0,inplace=True)"
   ]
  },
  {
   "cell_type": "markdown",
   "metadata": {},
   "source": [
    "### 4.1 Write a function that, given a profile_id, will be able to return the posts that belong to the given profile_id"
   ]
  },
  {
   "cell_type": "markdown",
   "metadata": {},
   "source": [
    "In this function we need to pass the profile_id of a profile and it will return a dataframe with all the posts published by this user.  \n",
    "There is also an example in the next cell"
   ]
  },
  {
   "cell_type": "code",
   "execution_count": null,
   "metadata": {},
   "outputs": [],
   "source": [
    "def return_posts(profile_id):\n",
    "    posts_of_profile = posts[posts[\"profile_id\"]==profile_id]\n",
    "    return posts_of_profile   "
   ]
  },
  {
   "cell_type": "markdown",
   "metadata": {},
   "source": [
    "### Test"
   ]
  },
  {
   "cell_type": "code",
   "execution_count": null,
   "metadata": {},
   "outputs": [],
   "source": [
    "posts.iloc[6888,:][\"profile_id\"]\n",
    "display(return_posts(11357330613))"
   ]
  },
  {
   "cell_type": "markdown",
   "metadata": {},
   "source": [
    "### 4.2 Write another function that, given an input n (an integer), will return the posts that belong to the n top posted profiles (top n profiles that have posted the highest number of posts) that their data is available in the profile.csv using the previously written function."
   ]
  },
  {
   "cell_type": "code",
   "execution_count": null,
   "metadata": {},
   "outputs": [],
   "source": [
    "def top_n_users(n):\n",
    "    index = set()\n",
    "    top_n_profiles = profiles.sort_values(by=['n_posts'], ascending = False).head(n)\n",
    "    for i in range(n):\n",
    "        index.add(top_n_profiles.iloc[i,:][\"profile_id\"])\n",
    "    new_dataset = posts[posts[\"profile_id\"].isin(index)]\n",
    "    return new_dataset.sort_values(by=\"profile_id\",ascending=False)"
   ]
  },
  {
   "cell_type": "markdown",
   "metadata": {},
   "source": [
    "### Test"
   ]
  },
  {
   "cell_type": "code",
   "execution_count": null,
   "metadata": {},
   "outputs": [],
   "source": [
    "print(\"An example with the top 4 profiles:\")\n",
    "top_n_users(4)"
   ]
  },
  {
   "cell_type": "markdown",
   "metadata": {},
   "source": [
    "### 4.3 What is the average number of \"likes\" and comments of the top 10 profiles with the highest number of posts which their information is available in profile.csv?"
   ]
  },
  {
   "cell_type": "markdown",
   "metadata": {},
   "source": [
    "We convert the columns of the top_n_users in a numpy array for work more efficiently."
   ]
  },
  {
   "cell_type": "code",
   "execution_count": null,
   "metadata": {},
   "outputs": [],
   "source": [
    "likes10 = top_n_users(10)[\"numbr_likes\"].tolist()\n",
    "likes10 = np.array(likes10)\n",
    "print(np.mean(likes10.astype(float)))"
   ]
  },
  {
   "cell_type": "code",
   "execution_count": null,
   "metadata": {},
   "outputs": [],
   "source": [
    "comments10 = top_n_users(10)[\"number_comments\"].tolist()\n",
    "comments10 = np.array(comments10)\n",
    "print(np.mean(comments10.astype(float)))"
   ]
  },
  {
   "cell_type": "markdown",
   "metadata": {},
   "source": [
    "As we can notice this profiles have a very poor average numbers of likes and comments.\\\n",
    "Probably this users are bots or people that published incredibly a lot."
   ]
  },
  {
   "cell_type": "markdown",
   "metadata": {},
   "source": [
    "### 4.4 Plot the number of posts that these top 10 profiles have sent on Instagram in the given interval in question RQ3. Interpret the resulting chart.\n"
   ]
  }
 ],
 "metadata": {
  "kernelspec": {
   "display_name": "Python 3.9.7 ('base')",
   "language": "python",
   "name": "python3"
  },
  "language_info": {
   "codemirror_mode": {
    "name": "ipython",
    "version": 3
   },
   "file_extension": ".py",
   "mimetype": "text/x-python",
   "name": "python",
   "nbconvert_exporter": "python",
   "pygments_lexer": "ipython3",
   "version": "3.9.7"
  },
  "orig_nbformat": 4,
  "vscode": {
   "interpreter": {
    "hash": "28ea75b7d9dd5b325cb9a751dc34da71a10f8944bac9b4ff454d9595cb15b82f"
   }
  }
 },
 "nbformat": 4,
 "nbformat_minor": 2
}
